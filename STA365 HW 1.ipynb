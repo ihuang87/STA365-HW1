{
 "cells": [
  {
   "cell_type": "code",
   "execution_count": 1,
   "id": "a5bd2542",
   "metadata": {},
   "outputs": [
    {
     "data": {
      "text/plain": [
       "array([0])"
      ]
     },
     "execution_count": 1,
     "metadata": {},
     "output_type": "execute_result"
    }
   ],
   "source": [
    "from scipy import stats\n",
    "stats.binom(n=1,p=0.5).rvs(size=1)\n",
    "#stats.bernoulli(p=0.5).rvs(size=1)"
   ]
  },
  {
   "cell_type": "code",
   "execution_count": 2,
   "id": "f8d0c72f",
   "metadata": {},
   "outputs": [
    {
     "name": "stdout",
     "output_type": "stream",
     "text": [
      "I print when `i` is 0\n",
      "I print when `i` is 1\n",
      "I print when `i` is 3\n",
      "I print when `i` is 4\n",
      "I print when `i` is 5\n",
      "I print when `i` is 8\n",
      "I print when `i` is 9\n"
     ]
    }
   ],
   "source": [
    "for i in range(10):\n",
    "    if stats.binom(n=1,p=0.5).rvs(size=1) == 1:\n",
    "        print('I print when `i` is', i)"
   ]
  },
  {
   "cell_type": "code",
   "execution_count": 3,
   "id": "9e988753",
   "metadata": {},
   "outputs": [
    {
     "data": {
      "text/plain": [
       "1.0000000000000002"
      ]
     },
     "execution_count": 3,
     "metadata": {},
     "output_type": "execute_result"
    }
   ],
   "source": [
    "alpha,beta,n,x=1,1,1,5 # I just made these numbers up\n",
    "beta_distribution = stats.beta(a=2,b=1)\n",
    "beta_distribution.pdf(0.5)"
   ]
  },
  {
   "cell_type": "code",
   "execution_count": 22,
   "id": "ceb3d1f5",
   "metadata": {},
   "outputs": [],
   "source": [
    "import numpy as np\n",
    "\n",
    "\n",
    "#sampling algorithm\n",
    "def sampling(bandit_probs, record, n):\n",
    "\n",
    "#rewards and pulls are initially 0 for each arm\n",
    "    reward = [0, 0, 0]\n",
    "    pulls = [0, 0, 0]\n",
    "\n",
    "    # Picking arms\n",
    "    #Update it this way since the posterior is still a beta distribution, so only the hyperparatmeters change\n",
    "    #let a be the number of success, and b be the failure (no reward)\n",
    "    for i in range(n):\n",
    "        arm_1 = np.random.beta(reward[0] + 1, pulls[0] - reward[0] + 1)\n",
    "        arm_2 = np.random.beta(reward[1] + 1, pulls[1] - reward[1] + 1)\n",
    "        arm_3 = np.random.beta(reward[2] + 1, pulls[2] - reward[2] + 1)\n",
    "    \n",
    "    # First do round-robin sampling of the arms to obtain a rough estimate\n",
    "    for j in range(n):\n",
    "        choice = 0\n",
    "        record[j] = choice\n",
    "        \n",
    "        a_pull = np.random.choice([0, 1], p=(1 - bandit_probs[0],\n",
    "                                                     bandit_probs[0]))\n",
    "        if a_pull == 1:\n",
    "            reward[0] += 1\n",
    "            pulls[0] += 1\n",
    "        else:\n",
    "            pulls[0] += 1\n",
    "        \n",
    "    for k in range(n):\n",
    "        choice = 1\n",
    "        record[k] = choice\n",
    "        \n",
    "        b_pull = np.random.choice([0, 1], p=(1 - bandit_probs[1],\n",
    "                                                     bandit_probs[1]))\n",
    "        if b_pull == 1:\n",
    "            reward[1] += 1\n",
    "            pulls[1] += 1\n",
    "        else:\n",
    "            pulls[1] += 1\n",
    "\n",
    "    for l in range(n):\n",
    "        choice = 2\n",
    "        record[l] = choice\n",
    "        c_pull = np.random.choice([0, 1], p=(1 - bandit_probs[2],\n",
    "                                                     bandit_probs[2]))\n",
    "        if c_pull == 1:\n",
    "            reward[2] += 1\n",
    "            pulls[2] += 1\n",
    "        else:\n",
    "            pulls[2] += 1\n",
    "        \n",
    "        \n",
    "    # Then sample continuously the arm with best estimated probability\n",
    "    for a in range(n):\n",
    "        predicted_prob = [arm_1, arm_2, arm_3]\n",
    "        choice = np.argmax(predicted_prob)\n",
    "        record[i] = choice\n",
    "        \n",
    "        if choice == 0:\n",
    "            a_pull = np.random.choice([0, 1], p=(1 - bandit_probs[0],\n",
    "                                                     bandit_probs[0]))\n",
    "            if a_pull == 1:\n",
    "                reward[0] += 1\n",
    "                pulls[0] += 1\n",
    "            else:\n",
    "                pulls[0] += 1\n",
    "\n",
    "        elif choice == 1:\n",
    "            b_pull = np.random.choice([0, 1], p=(1 - bandit_probs[1],\n",
    "                                                     bandit_probs[1]))\n",
    "            if b_pull == 1:\n",
    "                reward[1] += 1\n",
    "                pulls[1] += 1\n",
    "            else:\n",
    "                pulls[1] += 1\n",
    "\n",
    "        else:\n",
    "            c_pull = np.random.choice([0, 1], p=(1 - bandit_probs[2],\n",
    "                                                     bandit_probs[2]))\n",
    "            if c_pull == 1:\n",
    "                reward[2] += 1\n",
    "                pulls[2] += 1\n",
    "            else:\n",
    "                    pulls[2] += 1\n",
    "                    \n",
    "    return [reward, pulls]\n",
    "                    "
   ]
  },
  {
   "cell_type": "code",
   "execution_count": 27,
   "id": "a94b1dbb",
   "metadata": {},
   "outputs": [
    {
     "name": "stdout",
     "output_type": "stream",
     "text": [
      "0.4975 0.5082 0.8093\n"
     ]
    }
   ],
   "source": [
    "n = 10000\n",
    "rec = np.zeros(n)\n",
    "num_sim = 10000\n",
    "\n",
    "new, pul = sampling([0.5, 0.5, 0.8], rec, n)\n",
    "new\n",
    "pul\n",
    "\n",
    "arm1_mean = new[0]/pul[0]\n",
    "arm2_mean = new[1]/pul[1]\n",
    "arm3_mean = new[2]/pul[2]\n",
    "\n",
    "print(arm1_mean, arm2_mean, arm3_mean)\n",
    "\n",
    "#based on the result of the simulation, we pick the third arm, which is also the best arm in the simulation\n"
   ]
  },
  {
   "cell_type": "code",
   "execution_count": 17,
   "id": "8d2657e8",
   "metadata": {},
   "outputs": [],
   "source": [
    "\n"
   ]
  }
 ],
 "metadata": {
  "kernelspec": {
   "display_name": "Python 3 (ipykernel)",
   "language": "python",
   "name": "python3"
  },
  "language_info": {
   "codemirror_mode": {
    "name": "ipython",
    "version": 3
   },
   "file_extension": ".py",
   "mimetype": "text/x-python",
   "name": "python",
   "nbconvert_exporter": "python",
   "pygments_lexer": "ipython3",
   "version": "3.11.6"
  }
 },
 "nbformat": 4,
 "nbformat_minor": 5
}
